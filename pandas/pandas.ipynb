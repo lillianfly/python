{
 "cells": [
  {
   "cell_type": "code",
   "execution_count": 20,
   "metadata": {},
   "outputs": [
    {
     "name": "stdout",
     "output_type": "stream",
     "text": [
      "   age  color  gender\n",
      "0   25    red    male\n",
      "1   30  green  female\n",
      "2   15   blue    male\n",
      "3   32  green  female\n",
      "   age  color  gender  gender2\n",
      "0   25    red    male        0\n",
      "1   30  green  female        1\n",
      "2   15   blue    male        0\n",
      "3   32  green  female        1\n"
     ]
    }
   ],
   "source": [
    "# 小技巧1：如何使用map对某些列做特征工程？\n",
    "import pandas as pd\n",
    "from pandas import DataFrame\n",
    "import numpy as np\n",
    "\n",
    "d = {\n",
    "\"gender\":[\"male\", \"female\", \"male\",\"female\"],\n",
    "\"color\":[\"red\", \"green\", \"blue\",\"green\"],\n",
    "\"age\":[25, 30, 15, 32]\n",
    "}\n",
    "\n",
    "df = pd.DataFrame(d)\n",
    "print(df)\n",
    "d = {\"male\": 0, \"female\": 1}\n",
    "df[\"gender2\"] = df[\"gender\"].map(d)\n",
    "print(df)"
   ]
  },
  {
   "cell_type": "code",
   "execution_count": 7,
   "metadata": {},
   "outputs": [
    {
     "name": "stdout",
     "output_type": "stream",
     "text": [
      "  customer      sales\n",
      "0        A       1100\n",
      "1        B   950.5RMB\n",
      "2        C       $400\n",
      "3        D   $1250.75\n",
      "  customer    sales\n",
      "0        A  1100.00\n",
      "1        B   950.50\n",
      "2        C   400.00\n",
      "3        D  1250.75\n"
     ]
    }
   ],
   "source": [
    "# 小技巧2：使用 replace 和正则清洗数据\n",
    "d = {\"customer\": [\"A\", \"B\", \"C\", \"D\"],\n",
    "\"sales\":[1100, \"950.5RMB\", \"$400\", \" $1250.75\"]}\n",
    "\n",
    "df = pd.DataFrame(d)\n",
    "print(df)\n",
    "df[\"sales\"] = df[\"sales\"].replace(\"[$,RMB]\",\"\",regex = True).astype(\"float\")\n",
    "print(df)"
   ]
  },
  {
   "cell_type": "code",
   "execution_count": 10,
   "metadata": {},
   "outputs": [
    {
     "name": "stdout",
     "output_type": "stream",
     "text": [
      "   apple  banana  district_code  orange\n",
      "0    5.2     3.5          12345     8.0\n",
      "1    2.4     1.9          56789     7.5\n",
      "2    4.2     4.0         101112     6.4\n",
      "3    3.6     2.3         131415     3.9\n",
      "    district_code fruit_name  price\n",
      "0           12345      apple    5.2\n",
      "1           56789      apple    2.4\n",
      "2          101112      apple    4.2\n",
      "3          131415      apple    3.6\n",
      "4           12345     banana    3.5\n",
      "5           56789     banana    1.9\n",
      "6          101112     banana    4.0\n",
      "7          131415     banana    2.3\n",
      "8           12345     orange    8.0\n",
      "9           56789     orange    7.5\n",
      "10         101112     orange    6.4\n",
      "11         131415     orange    3.9\n"
     ]
    }
   ],
   "source": [
    "#小技巧3：使用 melt 如何对数据透视分析？\n",
    "d = {\\\n",
    "\"district_code\": [12345, 56789, 101112, 131415],\n",
    "\"apple\": [5.2, 2.4, 4.2, 3.6],\n",
    "\"banana\": [3.5, 1.9, 4.0, 2.3],\n",
    "\"orange\": [8.0, 7.5, 6.4, 3.9]\n",
    "}\n",
    "  \n",
    "df = pd.DataFrame(d)\n",
    "print(df)\n",
    "# 参数value_vars不赋值，默认剩余所有列都是value_vars\n",
    "df=pd.melt(df,id_vars = \"district_code\",var_name = \"fruit_name\",value_name = \"price\")\n",
    "print(df)"
   ]
  },
  {
   "cell_type": "code",
   "execution_count": 12,
   "metadata": {},
   "outputs": [
    {
     "name": "stdout",
     "output_type": "stream",
     "text": [
      "   day_of_year  year  int_number       date\n",
      "0          350  2019     2019350 2019-12-16\n",
      "1          365  2019     2019365 2019-12-31\n",
      "2            1  2020     2020001 2020-01-01\n"
     ]
    }
   ],
   "source": [
    "# 小技巧4：已知 year 和 dayofyear，怎么转 datetime?\n",
    "d = {\\\n",
    "\"year\": [2019, 2019, 2020],\n",
    "\"day_of_year\": [350, 365, 1]\n",
    "}\n",
    "df = pd.DataFrame(d)\n",
    "df[\"int_number\"] = df[\"year\"]*1000 + df[\"day_of_year\"]\n",
    "df[\"date\"]=pd.to_datetime(df[\"int_number\"],format = \"%Y%j\")\n",
    "print(df)"
   ]
  },
  {
   "cell_type": "code",
   "execution_count": 19,
   "metadata": {},
   "outputs": [
    {
     "name": "stdout",
     "output_type": "stream",
     "text": [
      "A    0.363636\n",
      "B    0.181818\n",
      "C    0.181818\n",
      "F    0.090909\n",
      "D    0.090909\n",
      "E    0.090909\n",
      "Name: categories, dtype: float64\n",
      "   categories    name\n",
      "0           A    Jone\n",
      "1           C   Alica\n",
      "2           A   Emily\n",
      "3      Others  Robert\n",
      "4           A   Tomas\n",
      "5           B   Zhang\n",
      "6           B     Liu\n",
      "7           C    Wang\n",
      "8           A    Jack\n",
      "9      Others     Wsx\n",
      "10     Others     Guo\n"
     ]
    }
   ],
   "source": [
    "# 小技巧5：如何将分类中出现次数较少的值归为 others？\n",
    "d = {\"name\":['Jone','Alica','Emily','Robert','Tomas',\n",
    "             'Zhang','Liu','Wang','Jack','Wsx','Guo'],\n",
    "     \"categories\": [\"A\", \"C\", \"A\", \"D\", \"A\", \n",
    "                    \"B\", \"B\", \"C\", \"A\", \"E\", \"F\"]}\n",
    "df = pd.DataFrame(d)\n",
    "# 统计频次并归一\n",
    "frequencies = df[\"categories\"].value_counts(normalize = True)\n",
    "print(frequencies)\n",
    "threshold = 0.1\n",
    "small_categories = frequencies[frequencies < threshold].index\n",
    "df[\"categories\"] = df[\"categories\"].replace(small_categories, \"Others\")\n",
    "print(df)"
   ]
  },
  {
   "cell_type": "code",
   "execution_count": null,
   "metadata": {
    "collapsed": true
   },
   "outputs": [],
   "source": [
    "# 小技巧6：如何快速找出 DataFrame 所有列 null 值个数？  每一列的null值都能求出来\n",
    "data.isnull().sum()"
   ]
  },
  {
   "cell_type": "code",
   "execution_count": 25,
   "metadata": {},
   "outputs": [
    {
     "name": "stdout",
     "output_type": "stream",
     "text": [
      "                     商品编码  商品销量  商品库存\n",
      "2000-01-01 00:00:00   788    29   987\n",
      "2000-01-01 01:00:00   416   659   514\n",
      "2000-01-01 02:00:00   699   635   861\n",
      "2000-01-01 03:00:00   224   807   241\n",
      "2000-01-01 04:00:00   143   312   433\n",
      "2000-01-01 05:00:00   753   667   188\n",
      "2000-01-01 06:00:00   970   425   287\n",
      "2000-01-01 07:00:00   446   693   119\n",
      "2000-01-01 08:00:00   941   138   685\n",
      "2000-01-01 09:00:00   332   804   398\n"
     ]
    }
   ],
   "source": [
    "# 小技巧7：如何用 Pandas 快速生成时间序列数据？   可以配置频率\n",
    "df = pd.DataFrame(np.random.randint(1,1000,size=(10,3)),\n",
    "                  columns = ['商品编码','商品销量','商品库存'])\n",
    "df.index = pd.util.testing.makeDateIndex(10,freq='h')\n",
    "print(df)"
   ]
  },
  {
   "cell_type": "code",
   "execution_count": 28,
   "metadata": {},
   "outputs": [
    {
     "name": "stdout",
     "output_type": "stream",
     "text": [
      "    A   C   D   F   E   G   B\n",
      "0  13  13  10  15  19   3   0\n",
      "1  14   2  12  15  10  14  14\n",
      "2  10  19   9  10   2  16  17\n",
      "3   1   6  15   0   6   8  17\n",
      "4   4  17   5  18   4  12  19\n",
      "    A   C   D   F   E   G   B\n",
      "0  13  13  10  15  19   3   0\n",
      "1  14   2  12  15  10  14  14\n",
      "2  10  19   9  10   2  16  17\n",
      "3   1   6  15   0   6   8  17\n",
      "4   4  17   5  18   4  12  19\n"
     ]
    }
   ],
   "source": [
    "# 小技巧8：如何重新排序 DataFrame 的列？\n",
    "df = pd.DataFrame(np.random.randint(0,20,size=(5,7)),columns=list('ABCDEFG'))\n",
    "# 方法一\n",
    "df2 = df[[\"A\", \"C\", \"D\", \"F\", \"E\", \"G\", \"B\"]]\n",
    "print(df2)\n",
    "# 方法二\n",
    "cols = df.columns[[0, 2 , 3, 5, 4, 6, 1]]\n",
    "df3 = df[cols]\n",
    "print(df3)"
   ]
  },
  {
   "cell_type": "code",
   "execution_count": 29,
   "metadata": {},
   "outputs": [
    {
     "name": "stdout",
     "output_type": "stream",
     "text": [
      "            商品销量\n",
      "2000-01-01   125\n",
      "2000-01-02   121\n",
      "2000-01-03   127\n",
      "2000-01-04   114\n",
      "2000-01-05   124\n",
      "2000-01-06   105\n",
      "2000-01-07   113\n",
      "2000-01-08   116\n",
      "2000-01-09   121\n",
      "2000-01-10   118\n"
     ]
    }
   ],
   "source": [
    "# 小技巧9：如何完成数据下采样，调整步长由小时为天？\n",
    "df = pd.DataFrame(np.random.randint(1,10,size=(240,3)), columns = ['商品编码','商品销量','商品库存'])\n",
    "df.index = pd.util.testing.makeDateIndex(240,freq='H')\n",
    "day_df = df.resample(\"D\")[\"商品销量\"].sum().to_frame()\n",
    "print(day_df)"
   ]
  },
  {
   "cell_type": "code",
   "execution_count": null,
   "metadata": {
    "collapsed": true
   },
   "outputs": [],
   "source": [
    "# 小技巧 10：如何快速拿到数据最多的 3 个分类？\n",
    "# 筛选出 top3 的 index:\n",
    "vc = df[\"genre\"].value_counts()\n",
    "top_genre = vc[0:3].index\n",
    "# 使用得到的 top3 的 index ，结合 isin,选择出相应的 df\n",
    "df_top = df[df[\"genre\"].isin(top_genre)]"
   ]
  },
  {
   "cell_type": "code",
   "execution_count": null,
   "metadata": {
    "collapsed": true
   },
   "outputs": [],
   "source": [
    "# 小技巧11：如何使用 count 统计一个字段中词条出现次数？\n",
    "df[\"words_count\"] = df[\"Title\"].str.count(\" \") + 1\n",
    "df[[\"Title\",\"words_count\"]]"
   ]
  },
  {
   "cell_type": "code",
   "execution_count": null,
   "metadata": {
    "collapsed": true
   },
   "outputs": [],
   "source": [
    "# 小技巧 12 dt 访问器求时分(HH:mm)的分钟差\n",
    "df['a'] = df['a'].astype(str)\n",
    "df['b'] = df['b'].astype(str)\n",
    "df['atime'] = pd.to_datetime(df['a'])\n",
    "df['btime'] = pd.to_datetime(df['b'])\n",
    "df['amins'] = df['atime'].dt.hour * 60 + df['atime'].dt.minute \n",
    "df['bmins'] = df['btime'].dt.hour * 60 + df['btime'].dt.minute \n",
    "df['mins'] = df['amins'] - df['bmins'] "
   ]
  },
  {
   "cell_type": "code",
   "execution_count": null,
   "metadata": {
    "collapsed": true
   },
   "outputs": [],
   "source": [
    "# 小技巧15 100G 数据如何先随机读取1%？\n",
    "# 使用 skiprows 参数，\n",
    "# x > 0 确保首行读入，\n",
    "# np.random.rand() > 0.01 表示 99% 的数据都会被随机过滤掉\n",
    "\n",
    "df = pd.read_csv(\"big_data.csv\",\n",
    "skiprows = lambda x: x>0and np.random.rand() > 0.01)\n",
    "  \n",
    "print(\"The shape of the df is {}.\n",
    "It has been reduced 100 times!\".format(df.shape))"
   ]
  },
  {
   "cell_type": "code",
   "execution_count": 38,
   "metadata": {},
   "outputs": [
    {
     "name": "stdout",
     "output_type": "stream",
     "text": [
      "    district_code variable  value\n",
      "0           12345    apple    5.2\n",
      "1           56789    apple    2.4\n",
      "2          101112    apple    4.2\n",
      "3          131415    apple    3.6\n",
      "4           12345   banana    3.5\n",
      "5           56789   banana    1.9\n",
      "6          101112   banana    4.0\n",
      "7          131415   banana    2.3\n",
      "8           12345   orange    8.0\n",
      "9           56789   orange    7.5\n",
      "10         101112   orange    6.4\n",
      "11         131415   orange    3.9\n",
      "              value              \n",
      "variable      apple banana orange\n",
      "district_code                    \n",
      "12345           5.2    3.5    8.0\n",
      "56789           2.4    1.9    7.5\n",
      "101112          4.2    4.0    6.4\n",
      "131415          3.6    2.3    3.9\n"
     ]
    },
    {
     "data": {
      "text/html": [
       "<div>\n",
       "<table border=\"1\" class=\"dataframe\">\n",
       "  <thead>\n",
       "    <tr>\n",
       "      <th></th>\n",
       "      <th colspan=\"3\" halign=\"left\">value</th>\n",
       "    </tr>\n",
       "    <tr>\n",
       "      <th>variable</th>\n",
       "      <th>apple</th>\n",
       "      <th>banana</th>\n",
       "      <th>orange</th>\n",
       "    </tr>\n",
       "    <tr>\n",
       "      <th>district_code</th>\n",
       "      <th></th>\n",
       "      <th></th>\n",
       "      <th></th>\n",
       "    </tr>\n",
       "  </thead>\n",
       "  <tbody>\n",
       "    <tr>\n",
       "      <th>12345</th>\n",
       "      <td>10.4</td>\n",
       "      <td>7.0</td>\n",
       "      <td>16.0</td>\n",
       "    </tr>\n",
       "    <tr>\n",
       "      <th>56789</th>\n",
       "      <td>4.8</td>\n",
       "      <td>3.8</td>\n",
       "      <td>15.0</td>\n",
       "    </tr>\n",
       "    <tr>\n",
       "      <th>101112</th>\n",
       "      <td>8.4</td>\n",
       "      <td>8.0</td>\n",
       "      <td>12.8</td>\n",
       "    </tr>\n",
       "    <tr>\n",
       "      <th>131415</th>\n",
       "      <td>7.2</td>\n",
       "      <td>4.6</td>\n",
       "      <td>7.8</td>\n",
       "    </tr>\n",
       "  </tbody>\n",
       "</table>\n",
       "</div>"
      ],
      "text/plain": [
       "              value              \n",
       "variable      apple banana orange\n",
       "district_code                    \n",
       "12345          10.4    7.0   16.0\n",
       "56789           4.8    3.8   15.0\n",
       "101112          8.4    8.0   12.8\n",
       "131415          7.2    4.6    7.8"
      ]
     },
     "execution_count": 38,
     "metadata": {},
     "output_type": "execute_result"
    }
   ],
   "source": [
    "# 17 pivot 透视小技巧  melt 是融化数据，而 pivot 结冰数据，它们是一对互逆操作\n",
    "d = {\\\n",
    "\"district_code\": [12345, 56789, 101112, 131415],\n",
    "\"apple\": [5.2, 2.4, 4.2, 3.6],\n",
    "\"banana\": [3.5, 1.9, 4.0, 2.3],\n",
    "\"orange\": [8.0, 7.5, 6.4, 3.9]\n",
    "}\n",
    "  \n",
    "df = pd.DataFrame(d)\n",
    "df = pd.melt(df,id_vars = \"district_code\")\n",
    "print(df)\n",
    "print(df.pivot(index='district_code',columns='variable'))\n",
    "\n",
    "# pivot 方法没有聚合功能，它的升级版为 pivot_table 方法，能对数据聚合\n",
    "dfa = df.append(df) \n",
    "# index 设定第一个维度：zip_code，columns 设定第二个维度为 variable，使用 aggfunc 参数做聚合，也就是存在 zip_code + variable 重复项时，两项 np.sum 累加\n",
    "dfa.pivot_table(index='district_code',columns='variable',aggfunc=np.sum)"
   ]
  },
  {
   "cell_type": "code",
   "execution_count": null,
   "metadata": {
    "collapsed": true
   },
   "outputs": [],
   "source": [
    "# pandas数据处理技巧\n",
    "https://mp.weixin.qq.com/s?__biz=MzI3NTkyMjA4NA==&mid=2247499054&idx=1&sn=5fb681896b1f1b1365c09e8c31f0faf7&chksm=eb7fd0e5dc0859f3bf78541313b645cfec52e1e626b617e003ca50a40e33055c9c8ddaf08214&cur_album_id=1584542389774401538&scene=190#rd"
   ]
  },
  {
   "cell_type": "code",
   "execution_count": null,
   "metadata": {},
   "outputs": [],
   "source": [
    "# 常用命令\n",
    "\n",
    "# 读取excel数据\n",
    "import pandas as pd\n",
    "# 不限制最大显示列数\n",
    "pd.set_option('display.max_columns', None)\n",
    "# 不限制最大显示行数\n",
    "pd.set_option('display.max_rows', None)\n",
    "# 读取第2个表格  从0开始的\n",
    "data = pd.read_excel(io, sheet_name = 1)\n",
    "#查看前三条\n",
    "data.head(3)\n",
    "# 按某个字段聚合后，统计某个的值\n",
    "data.groupby('race')['signs_of_mental_illness'].value_counts()\n",
    "# 某个字段按照_分隔，并且拓展成列，计算个数\n",
    "data['hotel_seq'].str.split('_',expand = True)[0].value_counts(ascending=False)\n",
    "# 筛选不包含0的行\n",
    "data = data[~ data['col'].isin([0.0])] \n",
    "# 同时也可以作为筛选包含0的行\n",
    "data = data[data['col'].isin([0.0])]\n",
    "# 如果需要匹配的话\n",
    "data = data[data['col'].str.contains(str)]\n",
    "# 某一列出现频次最多的前10个，转为list\n",
    "prop['city'].value_counts(ascending=False).index[0:9].tolist()"
   ]
  }
 ],
 "metadata": {
  "anaconda-cloud": {},
  "kernelspec": {
   "display_name": "Python 3",
   "language": "python",
   "name": "python3"
  },
  "language_info": {
   "codemirror_mode": {
    "name": "ipython",
    "version": 3
   },
   "file_extension": ".py",
   "mimetype": "text/x-python",
   "name": "python",
   "nbconvert_exporter": "python",
   "pygments_lexer": "ipython3",
   "version": "3.6.5"
  }
 },
 "nbformat": 4,
 "nbformat_minor": 1
}
