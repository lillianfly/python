{
 "cells": [
  {
   "cell_type": "code",
   "execution_count": 2,
   "metadata": {},
   "outputs": [
    {
     "name": "stdout",
     "output_type": "stream",
     "text": [
      "1\n",
      "           hotel_seq       扶持曝光量     扶持曝光uv     扶持订单量    扶持订单间夜   正常曝光量  \\\n",
      "0    beijing_city_66   28.000000  17.000000  1.333333  1.666667   21.00   \n",
      "1  beijing_city_2736   57.333333  41.000000  1.666667  2.333333   47.00   \n",
      "2      chengdu_15544   92.333333  49.333333  1.666667  3.000000   68.75   \n",
      "3         baise_4036  185.333333  70.666667  2.666667  4.000000  121.75   \n",
      "4      chengdu_44571  142.333333  67.000000  2.666667  7.333333  100.75   \n",
      "\n",
      "   正常曝光uv  正常订单量  正常订单间夜    曝光pv增长  订单/曝光pv弹性(越大越好）    曝光uv增长  订单/曝光uv弹性(越大越好）  \n",
      "0   13.00   0.25    0.25  0.333333         0.154762  0.307692         0.270833  \n",
      "1   34.75   0.25    0.25  0.219858         0.137097  0.179856         0.226667  \n",
      "2   46.50   0.00    0.00  0.343030         0.070671  0.060932         0.588235  \n",
      "3   51.75   1.25    1.25  0.522245         0.022280  0.365539         0.074890  \n",
      "4   56.00   0.00    0.00  0.412738         0.064128  0.196429         0.242424  \n",
      "2\n"
     ]
    }
   ],
   "source": [
    "# encoding: utf-8\n",
    "import pandas as pd\n",
    "\n",
    "def print_hi(name):\n",
    "    prop = pd.read_excel(r\"/project/data/18-21日酒店集中度弹性数据.xlsx\",sheet_name=0)\n",
    "    print(prop.head())\n",
    "    token = 'pk.eyJ1IjoiZGh1aWVoZmUiLCJhIjoiY2tpeWI3ZGY4MTQ3bDJ4cDJvejVndWh1YyJ9.1xiciaxr6ZxsqDDvJG4umQ'\n",
    "    \n",
    "\n",
    "\n",
    "print(1)\n",
    "print_hi('PyCharm')\n",
    "print(2)"
   ]
  },
  {
   "cell_type": "code",
   "execution_count": null,
   "metadata": {},
   "outputs": [],
   "source": []
  }
 ],
 "metadata": {
  "kernelspec": {
   "display_name": "Python 3",
   "language": "python",
   "name": "python3"
  },
  "language_info": {
   "codemirror_mode": {
    "name": "ipython",
    "version": 3
   },
   "file_extension": ".py",
   "mimetype": "text/x-python",
   "name": "python",
   "nbconvert_exporter": "python",
   "pygments_lexer": "ipython3",
   "version": "3.6.5"
  }
 },
 "nbformat": 4,
 "nbformat_minor": 2
}
