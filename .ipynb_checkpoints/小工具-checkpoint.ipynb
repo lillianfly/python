{
 "cells": [
  {
   "cell_type": "code",
   "execution_count": null,
   "metadata": {},
   "outputs": [],
   "source": [
    "# encoding: utf-8\n",
    "import pandas as pd\n",
    "import plotly.offline as pltoff\n",
    "import plotly.express as px\n",
    "def print_hi(name):\n",
    "    prop = pd.read_excel(r\"/project/data/18-21日酒店集中度弹性数据.xlsx\",sheet_name=0)\n",
    "    prop.head()\n",
    "    print(1)\n",
    "    token = 'pk.eyJ1IjoiZGh1aWVoZmUiLCJhIjoiY2tpeWI3ZGY4MTQ3bDJ4cDJvejVndWh1YyJ9.1xiciaxr6ZxsqDDvJG4umQ'\n",
    "    \n",
    "\n",
    "\n",
    "print(1)\n",
    "print_hi('PyCharm')\n",
    "print(2)"
   ]
  },
  {
   "cell_type": "code",
   "execution_count": null,
   "metadata": {},
   "outputs": [],
   "source": []
  }
 ],
 "metadata": {
  "kernelspec": {
   "display_name": "Python 3",
   "language": "python",
   "name": "python3"
  },
  "language_info": {
   "codemirror_mode": {
    "name": "ipython",
    "version": 3
   },
   "file_extension": ".py",
   "mimetype": "text/x-python",
   "name": "python",
   "nbconvert_exporter": "python",
   "pygments_lexer": "ipython3",
   "version": "3.6.5"
  }
 },
 "nbformat": 4,
 "nbformat_minor": 2
}
